{
 "cells": [
  {
   "attachments": {},
   "cell_type": "markdown",
   "id": "a6c11bf5",
   "metadata": {},
   "source": [
    "# What is NUMPY -\n",
    "- Numpy is the fundamental package for scientific computing in python. \n",
    "- It is a python library that provides a MULTIDIMENSIONAL ARRAY OBJECT, various derived objects \n",
    "(such as masked arrays and matrices), and an assortment of routines for fast operations on arrays, including \n",
    "mathmetical, logical, shape manipulation, sorting, selection, I/O, discrete Fourier Transforms, basic Linear Algebra\n",
    "Basic Statistical operations , Random Simulation and much more.\n",
    "- Basically Nummpy is a Scientific computing library that provides \"Numpy Arrays\". With help of Numpy arrays other objects created like \"Matrices\" , \"Masked arrays\" and \"Structured arrays on which Numpy provide some functionality which can be used such as \"Mathmetical Functions\", \"Imput-Output\", \"sortings\", \"Selection Functions\" and \"Linear Algebra related functions, \"Statistics related Functions\"."
   ]
  },
  {
   "attachments": {},
   "cell_type": "markdown",
   "id": "bbb545ae",
   "metadata": {},
   "source": [
    "- At the core of Numpy Package, is the NDARRAY OBJECT. This encapsulation n-dimensional arrays of HOMOGENEOUS DATA TYPES\n"
   ]
  },
  {
   "attachments": {},
   "cell_type": "markdown",
   "id": "860ad819",
   "metadata": {},
   "source": [
    "# What is the need of \"NUMPY\" -\n",
    "## When we have \"LIST\" in \"Python\" then what is the need to create \"Numpy\" :\n",
    "\n",
    "- In 2008, when Data Science and Machine Learning were gaining traction, Matlab and R were indeed popular tools for data analysis and machine learning tasks. Python was not as widely used for these purposes at the time. One of the main reasons for this was that Python's native data types like lists and dictionaries were not as efficient for handling large datasets commonly encountered in machine learning. \n",
    "- However, the situation changed with the introduction of the \"Numpy\" package. Numpy is a fundamental package for scientific computing in Python. It provides support for large, multi-dimensional arrays and matrices, along with an extensive collection of mathematical functions to operate on these arrays. The crucial aspect of Numpy is that it is written in C language, which makes it fast and efficient, especially when handling large datasets.\n",
    "- The popularity of Numpy grew quickly due to its efficient array processing capabilities, and it became the foundation for many other libraries in the Python data science ecosystem. Other libraries, such as \"Pandas\" and \"Scikit-learn,\" were built on top of Numpy. \n",
    "- The combination of Python's easy-to-understand syntax and the efficiency of Numpy arrays made Python a powerful and accessible language for data science and machine learning tasks. Over time, Python has become the de facto language for many data scientists and machine learning practitioners due to the growth of its ecosystem, the ease of use, and the availability of various libraries built upon Numpy."
   ]
  },
  {
   "cell_type": "markdown",
   "id": "4394706b",
   "metadata": {},
   "source": [
    "# NUMPY ARRAY VS PYTHON SEQUENCES"
   ]
  },
  {
   "attachments": {},
   "cell_type": "markdown",
   "id": "8ab589c1",
   "metadata": {},
   "source": [
    "- Numpy Arrays have a fixed size at creation, unlike Python LISTS(which can grow dynamically)\n",
    "- changing the size of an ndarray will create a new array and delete the original.\n",
    "\n",
    "- The elements in a Numpy Array are all required to be of the same data type, and thus will be the same size in memory.\n",
    "- Numpy arrays facilitate advanced mathematical and other types of operations on large number of data.\n",
    "- Typically, such operations are executed more efficiently and with less code than is possible using pythons built in sequences.\n",
    "\n",
    "- A growing plethora of scientific and mathematical python based packages are using NumpyArrays; though these typically support\n",
    "python sequence input, they convert such input to Numpy arrays prior to processing, and they often output numpy arrays."
   ]
  },
  {
   "cell_type": "code",
   "execution_count": 2,
   "id": "addf7712",
   "metadata": {},
   "outputs": [],
   "source": [
    "import numpy as np"
   ]
  },
  {
   "cell_type": "markdown",
   "id": "dae2575d",
   "metadata": {},
   "source": [
    "# N- D arrays\n",
    "its homogenous\n",
    "Fixed itemsize\n"
   ]
  },
  {
   "cell_type": "markdown",
   "id": "f55cf0e0",
   "metadata": {},
   "source": [
    "# Creating N- D Arrays"
   ]
  },
  {
   "cell_type": "markdown",
   "id": "b63b233b",
   "metadata": {},
   "source": [
    "''' \n",
    "1- using np.array(1D, 2 D) \n",
    "\n",
    "2- np.zeros/ones/empty/random()\n",
    "\n",
    "3- np.arange()\n",
    "\n",
    "4- np.linspace()\n",
    "\n",
    "5- copy()\n",
    "\n",
    "6- identity() \n",
    "'''"
   ]
  },
  {
   "attachments": {},
   "cell_type": "markdown",
   "id": "a1458791",
   "metadata": {},
   "source": [
    "#creating numpy / n-d array\n",
    "\n",
    "# For including numpy firstly we need to import numpy library into our code.\n",
    "\n",
    "# Numpy arrays take list when we create an array with np.array"
   ]
  },
  {
   "cell_type": "code",
   "execution_count": 3,
   "id": "d5b563a0",
   "metadata": {},
   "outputs": [],
   "source": [
    "# 1 D ARRAY / Vector\n",
    "arr1 = np.array([1,2,3,4,5,])"
   ]
  },
  {
   "cell_type": "code",
   "execution_count": 4,
   "id": "715357a5",
   "metadata": {},
   "outputs": [
    {
     "name": "stdout",
     "output_type": "stream",
     "text": [
      "[1 2 3 4 5]\n"
     ]
    }
   ],
   "source": [
    "print(arr1)"
   ]
  },
  {
   "cell_type": "code",
   "execution_count": 5,
   "id": "6a93fcb8",
   "metadata": {},
   "outputs": [
    {
     "data": {
      "text/plain": [
       "numpy.ndarray"
      ]
     },
     "execution_count": 5,
     "metadata": {},
     "output_type": "execute_result"
    }
   ],
   "source": [
    "type(arr1)"
   ]
  },
  {
   "cell_type": "code",
   "execution_count": 6,
   "id": "169e4c73",
   "metadata": {},
   "outputs": [
    {
     "data": {
      "text/plain": [
       "array([[1, 2, 3],\n",
       "       [4, 5, 6]])"
      ]
     },
     "execution_count": 6,
     "metadata": {},
     "output_type": "execute_result"
    }
   ],
   "source": [
    "# 2d array / Metrices\n",
    "\n",
    "arr2 = np.array([[1,2,3],[4,5,6]])\n",
    "arr2"
   ]
  },
  {
   "cell_type": "code",
   "execution_count": 7,
   "id": "2f479a1f",
   "metadata": {},
   "outputs": [
    {
     "data": {
      "text/plain": [
       "numpy.ndarray"
      ]
     },
     "execution_count": 7,
     "metadata": {},
     "output_type": "execute_result"
    }
   ],
   "source": [
    "type(arr2)"
   ]
  },
  {
   "cell_type": "code",
   "execution_count": 15,
   "id": "81b1cd78",
   "metadata": {},
   "outputs": [
    {
     "data": {
      "text/plain": [
       "array([[0., 0., 0.],\n",
       "       [0., 0., 0.]])"
      ]
     },
     "execution_count": 15,
     "metadata": {},
     "output_type": "execute_result"
    }
   ],
   "source": [
    "arr3 = np.zeros((2,3))\n",
    "arr3"
   ]
  },
  {
   "cell_type": "code",
   "execution_count": 9,
   "id": "7e6217f2",
   "metadata": {},
   "outputs": [
    {
     "name": "stdout",
     "output_type": "stream",
     "text": [
      "[[[1 2]\n",
      "  [3 4]]\n",
      "\n",
      " [[5 6]\n",
      "  [7 8]]]\n"
     ]
    }
   ],
   "source": [
    "# 3 d array / Tensor\n",
    "\n",
    "c  = np.array([[[1,2], [3,4]], [[5,6],[7,8]]])\n",
    "print(c)"
   ]
  },
  {
   "cell_type": "code",
   "execution_count": 10,
   "id": "89b68572",
   "metadata": {},
   "outputs": [
    {
     "data": {
      "text/plain": [
       "array([1., 2., 3.])"
      ]
     },
     "execution_count": 10,
     "metadata": {},
     "output_type": "execute_result"
    }
   ],
   "source": [
    "# dttype\n",
    "np.array([1,2,3], dtype = float)"
   ]
  },
  {
   "cell_type": "code",
   "execution_count": 11,
   "id": "e9ff2e24",
   "metadata": {},
   "outputs": [
    {
     "data": {
      "text/plain": [
       "array([ True,  True,  True])"
      ]
     },
     "execution_count": 11,
     "metadata": {},
     "output_type": "execute_result"
    }
   ],
   "source": [
    "# dttype\n",
    "np.array([1,2,3], dtype = bool)"
   ]
  },
  {
   "cell_type": "code",
   "execution_count": 14,
   "id": "3e927689",
   "metadata": {},
   "outputs": [
    {
     "data": {
      "text/plain": [
       "array([1.+0.j, 2.+0.j, 3.+0.j])"
      ]
     },
     "execution_count": 14,
     "metadata": {},
     "output_type": "execute_result"
    }
   ],
   "source": [
    "# dttype\n",
    "np.array([1,2,3], dtype = complex)"
   ]
  },
  {
   "cell_type": "markdown",
   "id": "06459039",
   "metadata": {},
   "source": [
    "# np.ones and np.zeros - here we need to provide tuple - intialize technique\n",
    "- it use in neural networks "
   ]
  },
  {
   "cell_type": "code",
   "execution_count": 17,
   "id": "d3eec3a0",
   "metadata": {},
   "outputs": [
    {
     "data": {
      "text/plain": [
       "array([[1., 1., 1.],\n",
       "       [1., 1., 1.],\n",
       "       [1., 1., 1.]])"
      ]
     },
     "execution_count": 17,
     "metadata": {},
     "output_type": "execute_result"
    }
   ],
   "source": [
    "arr4 = np.ones((3,3))\n",
    "arr4"
   ]
  },
  {
   "cell_type": "code",
   "execution_count": 19,
   "id": "94be6a78",
   "metadata": {},
   "outputs": [
    {
     "data": {
      "text/plain": [
       "array([[0., 0., 0., 0.],\n",
       "       [0., 0., 0., 0.],\n",
       "       [0., 0., 0., 0.]])"
      ]
     },
     "execution_count": 19,
     "metadata": {},
     "output_type": "execute_result"
    }
   ],
   "source": [
    "np.zeros((3,4))"
   ]
  },
  {
   "cell_type": "markdown",
   "id": "0aee9897",
   "metadata": {},
   "source": [
    "# np.identity helps in create identity matrix\n",
    "- its digonal item is - 1, all other item is - 0"
   ]
  },
  {
   "cell_type": "code",
   "execution_count": 25,
   "id": "fdc8005c",
   "metadata": {},
   "outputs": [
    {
     "data": {
      "text/plain": [
       "array([[1., 0., 0., 0., 0.],\n",
       "       [0., 1., 0., 0., 0.],\n",
       "       [0., 0., 1., 0., 0.],\n",
       "       [0., 0., 0., 1., 0.],\n",
       "       [0., 0., 0., 0., 1.]])"
      ]
     },
     "execution_count": 25,
     "metadata": {},
     "output_type": "execute_result"
    }
   ],
   "source": [
    "arr5 = np.identity(5)\n",
    "arr5"
   ]
  },
  {
   "cell_type": "markdown",
   "id": "dcbfb08f",
   "metadata": {},
   "source": [
    "# np.random generate random numbers - intialize technique"
   ]
  },
  {
   "cell_type": "code",
   "execution_count": 22,
   "id": "690e56f3",
   "metadata": {},
   "outputs": [
    {
     "data": {
      "text/plain": [
       "array([[0.49099832, 0.50144629, 0.19521973, 0.27136682, 0.58392896],\n",
       "       [0.82154803, 0.8103869 , 0.28917675, 0.2491503 , 0.5051373 ],\n",
       "       [0.72481902, 0.15002906, 0.06539541, 0.25698849, 0.29374583]])"
      ]
     },
     "execution_count": 22,
     "metadata": {},
     "output_type": "execute_result"
    }
   ],
   "source": [
    "np.random.random((3,5))"
   ]
  },
  {
   "cell_type": "markdown",
   "id": "d1da0782",
   "metadata": {},
   "source": [
    "# np.arange - first include last not include, range can also given\n",
    "- range is a built-in Python class, while arange() is a function that belongs to a third-party library (NumPy)."
   ]
  },
  {
   "cell_type": "code",
   "execution_count": 20,
   "id": "d880116a",
   "metadata": {},
   "outputs": [
    {
     "data": {
      "text/plain": [
       "array([0, 1, 2, 3, 4, 5, 6, 7, 8, 9])"
      ]
     },
     "execution_count": 20,
     "metadata": {},
     "output_type": "execute_result"
    }
   ],
   "source": [
    "arr6 = np.arange(10)  # counterfunction of range \n",
    "arr6"
   ]
  },
  {
   "cell_type": "code",
   "execution_count": 21,
   "id": "5bd6b54d",
   "metadata": {},
   "outputs": [
    {
     "data": {
      "text/plain": [
       "array([ 5,  6,  7,  8,  9, 10, 11, 12, 13, 14])"
      ]
     },
     "execution_count": 21,
     "metadata": {},
     "output_type": "execute_result"
    }
   ],
   "source": [
    "arr7 = np.arange(5,15)\n",
    "arr7"
   ]
  },
  {
   "cell_type": "code",
   "execution_count": 22,
   "id": "1515ac9f",
   "metadata": {},
   "outputs": [
    {
     "data": {
      "text/plain": [
       "array([ 5,  7,  9, 11, 13])"
      ]
     },
     "execution_count": 22,
     "metadata": {},
     "output_type": "execute_result"
    }
   ],
   "source": [
    "arr8 = np.arange(5,15,2)\n",
    "arr8"
   ]
  },
  {
   "cell_type": "markdown",
   "id": "8c5c79a6",
   "metadata": {},
   "source": [
    "# np.arange with reshape - it use to convert array in any shape\n",
    "- it will work only when product should be equal to number of item inside the array."
   ]
  },
  {
   "cell_type": "code",
   "execution_count": 15,
   "id": "88f632c9",
   "metadata": {},
   "outputs": [
    {
     "data": {
      "text/plain": [
       "array([[ 1,  2,  3,  4],\n",
       "       [ 5,  6,  7,  8],\n",
       "       [ 9, 10, 11, 12]])"
      ]
     },
     "execution_count": 15,
     "metadata": {},
     "output_type": "execute_result"
    }
   ],
   "source": [
    "np.arange(1,13).reshape(3,4)"
   ]
  },
  {
   "cell_type": "code",
   "execution_count": 16,
   "id": "ad8dabac",
   "metadata": {},
   "outputs": [
    {
     "data": {
      "text/plain": [
       "array([[ 1,  2,  3,  4,  5,  6],\n",
       "       [ 7,  8,  9, 10, 11, 12]])"
      ]
     },
     "execution_count": 16,
     "metadata": {},
     "output_type": "execute_result"
    }
   ],
   "source": [
    "np.arange(1,13).reshape(2,6)"
   ]
  },
  {
   "cell_type": "markdown",
   "id": "54cd4003",
   "metadata": {},
   "source": [
    "# np.linspace (linearly space)\n",
    "- in this  we provide range 3 things - range (lower, upper, step)\n",
    "- it in given range generate point in equal distance"
   ]
  },
  {
   "cell_type": "code",
   "execution_count": 20,
   "id": "55dc904a",
   "metadata": {},
   "outputs": [
    {
     "data": {
      "text/plain": [
       "array([10.        , 11.11111111, 12.22222222, 13.33333333, 14.44444444,\n",
       "       15.55555556, 16.66666667, 17.77777778, 18.88888889, 20.        ])"
      ]
     },
     "execution_count": 20,
     "metadata": {},
     "output_type": "execute_result"
    }
   ],
   "source": [
    "arr7 = np.linspace(10,20,10) #lower , upper, jump\n",
    "arr7"
   ]
  },
  {
   "cell_type": "code",
   "execution_count": 21,
   "id": "7ce31f47",
   "metadata": {},
   "outputs": [
    {
     "data": {
      "text/plain": [
       "array([10.        , 11.11111111, 12.22222222, 13.33333333, 14.44444444,\n",
       "       15.55555556, 16.66666667, 17.77777778, 18.88888889, 20.        ])"
      ]
     },
     "execution_count": 21,
     "metadata": {},
     "output_type": "execute_result"
    }
   ],
   "source": [
    "arr8 = arr7.copy()\n",
    "arr8"
   ]
  },
  {
   "cell_type": "markdown",
   "id": "a9fc35bd",
   "metadata": {},
   "source": [
    "# Numpy Properties &  ARRAY Attributes\n",
    "- ndim, shape, size, itemsize, dtype"
   ]
  },
  {
   "cell_type": "code",
   "execution_count": 27,
   "id": "936e0668",
   "metadata": {},
   "outputs": [],
   "source": [
    "a1 = np.arange(10)\n",
    "a2 = np.arange(12, dtype = float).reshape(3,4)\n",
    "a3 = np.arange(8).reshape(2,2,2)"
   ]
  },
  {
   "cell_type": "code",
   "execution_count": 28,
   "id": "143e6ed6",
   "metadata": {},
   "outputs": [
    {
     "data": {
      "text/plain": [
       "array([0, 1, 2, 3, 4, 5, 6, 7, 8, 9])"
      ]
     },
     "execution_count": 28,
     "metadata": {},
     "output_type": "execute_result"
    }
   ],
   "source": [
    "a1"
   ]
  },
  {
   "cell_type": "code",
   "execution_count": 29,
   "id": "6a6197dc",
   "metadata": {},
   "outputs": [
    {
     "data": {
      "text/plain": [
       "array([[ 0.,  1.,  2.,  3.],\n",
       "       [ 4.,  5.,  6.,  7.],\n",
       "       [ 8.,  9., 10., 11.]])"
      ]
     },
     "execution_count": 29,
     "metadata": {},
     "output_type": "execute_result"
    }
   ],
   "source": [
    "a2"
   ]
  },
  {
   "cell_type": "code",
   "execution_count": 30,
   "id": "8d3b1f9b",
   "metadata": {},
   "outputs": [
    {
     "data": {
      "text/plain": [
       "array([[[0, 1],\n",
       "        [2, 3]],\n",
       "\n",
       "       [[4, 5],\n",
       "        [6, 7]]])"
      ]
     },
     "execution_count": 30,
     "metadata": {},
     "output_type": "execute_result"
    }
   ],
   "source": [
    "a3"
   ]
  },
  {
   "cell_type": "markdown",
   "id": "ed86d77f",
   "metadata": {},
   "source": [
    "# 1- ndim \n",
    "- number of dimension.\n",
    "- for finding dimension of array we can use ndim.\n",
    "- it will tell array is 1d , 2d or 3d."
   ]
  },
  {
   "cell_type": "code",
   "execution_count": 31,
   "id": "2c50f589",
   "metadata": {},
   "outputs": [
    {
     "data": {
      "text/plain": [
       "1"
      ]
     },
     "execution_count": 31,
     "metadata": {},
     "output_type": "execute_result"
    }
   ],
   "source": [
    "a1.ndim"
   ]
  },
  {
   "cell_type": "code",
   "execution_count": 32,
   "id": "752e00e2",
   "metadata": {},
   "outputs": [
    {
     "data": {
      "text/plain": [
       "2"
      ]
     },
     "execution_count": 32,
     "metadata": {},
     "output_type": "execute_result"
    }
   ],
   "source": [
    "a2.ndim"
   ]
  },
  {
   "cell_type": "code",
   "execution_count": 33,
   "id": "ffaf5bc0",
   "metadata": {},
   "outputs": [
    {
     "data": {
      "text/plain": [
       "3"
      ]
     },
     "execution_count": 33,
     "metadata": {},
     "output_type": "execute_result"
    }
   ],
   "source": [
    "a3.ndim"
   ]
  },
  {
   "cell_type": "markdown",
   "id": "0b88978a",
   "metadata": {},
   "source": [
    "# 2- shape \n",
    "- it shows in every dimension how many items.\n",
    "- how many rows and how many columns"
   ]
  },
  {
   "cell_type": "code",
   "execution_count": 34,
   "id": "a4efccf8",
   "metadata": {},
   "outputs": [
    {
     "data": {
      "text/plain": [
       "(10,)"
      ]
     },
     "execution_count": 34,
     "metadata": {},
     "output_type": "execute_result"
    }
   ],
   "source": [
    "a1.shape"
   ]
  },
  {
   "cell_type": "code",
   "execution_count": 35,
   "id": "8421b4f6",
   "metadata": {},
   "outputs": [
    {
     "data": {
      "text/plain": [
       "(3, 4)"
      ]
     },
     "execution_count": 35,
     "metadata": {},
     "output_type": "execute_result"
    }
   ],
   "source": [
    "a2.shape"
   ]
  },
  {
   "cell_type": "code",
   "execution_count": 36,
   "id": "025d365d",
   "metadata": {},
   "outputs": [
    {
     "data": {
      "text/plain": [
       "(2, 2, 2)"
      ]
     },
     "execution_count": 36,
     "metadata": {},
     "output_type": "execute_result"
    }
   ],
   "source": [
    "a3.shape"
   ]
  },
  {
   "cell_type": "markdown",
   "id": "9de4df8a",
   "metadata": {},
   "source": [
    "# 3- Size \n",
    "- it will tell number of items in array"
   ]
  },
  {
   "cell_type": "code",
   "execution_count": 37,
   "id": "def01744",
   "metadata": {},
   "outputs": [
    {
     "data": {
      "text/plain": [
       "12"
      ]
     },
     "execution_count": 37,
     "metadata": {},
     "output_type": "execute_result"
    }
   ],
   "source": [
    "a2.size # 12 items in a2"
   ]
  },
  {
   "cell_type": "code",
   "execution_count": 38,
   "id": "0c22da06",
   "metadata": {},
   "outputs": [
    {
     "data": {
      "text/plain": [
       "8"
      ]
     },
     "execution_count": 38,
     "metadata": {},
     "output_type": "execute_result"
    }
   ],
   "source": [
    "a3.size"
   ]
  },
  {
   "cell_type": "markdown",
   "id": "eb5702e2",
   "metadata": {},
   "source": [
    "# 4 - Itemsize\n",
    "- it will tell every items occupy how much space in memmory.\n",
    "- same data type occupy same space.\n",
    "- as in example a2, a3 are occupying 8 bit size as both are int64."
   ]
  },
  {
   "cell_type": "code",
   "execution_count": 41,
   "id": "47f9ac4c",
   "metadata": {},
   "outputs": [
    {
     "data": {
      "text/plain": [
       "8"
      ]
     },
     "execution_count": 41,
     "metadata": {},
     "output_type": "execute_result"
    }
   ],
   "source": [
    "a2.itemsize # it means taking 8 byte space. it using int64 for memory filing."
   ]
  },
  {
   "cell_type": "code",
   "execution_count": 40,
   "id": "c313c1df",
   "metadata": {},
   "outputs": [
    {
     "data": {
      "text/plain": [
       "8"
      ]
     },
     "execution_count": 40,
     "metadata": {},
     "output_type": "execute_result"
    }
   ],
   "source": [
    "a3.itemsize"
   ]
  },
  {
   "cell_type": "markdown",
   "id": "2e6f0014",
   "metadata": {},
   "source": [
    "# 5- dtype\n",
    "- it tell what is your item data type\n"
   ]
  },
  {
   "cell_type": "code",
   "execution_count": 42,
   "id": "7eb458cc",
   "metadata": {},
   "outputs": [
    {
     "name": "stdout",
     "output_type": "stream",
     "text": [
      "int64\n",
      "float64\n",
      "int64\n"
     ]
    }
   ],
   "source": [
    "print(a1.dtype)\n",
    "print(a2.dtype)\n",
    "print(a3.dtype)"
   ]
  },
  {
   "cell_type": "markdown",
   "id": "3e57997b",
   "metadata": {},
   "source": [
    "# changing Data Type \n",
    "- we do for saving memory by changing data type "
   ]
  },
  {
   "cell_type": "markdown",
   "id": "5c52cf42",
   "metadata": {},
   "source": [
    "# 1- astype"
   ]
  },
  {
   "cell_type": "code",
   "execution_count": 44,
   "id": "923d7516",
   "metadata": {},
   "outputs": [
    {
     "name": "stdout",
     "output_type": "stream",
     "text": [
      "int64\n"
     ]
    }
   ],
   "source": [
    "a3\n",
    "print(a3.dtype)"
   ]
  },
  {
   "cell_type": "code",
   "execution_count": 45,
   "id": "837fb32f",
   "metadata": {},
   "outputs": [
    {
     "data": {
      "text/plain": [
       "array([[[0, 1],\n",
       "        [2, 3]],\n",
       "\n",
       "       [[4, 5],\n",
       "        [6, 7]]], dtype=int32)"
      ]
     },
     "execution_count": 45,
     "metadata": {},
     "output_type": "execute_result"
    }
   ],
   "source": [
    "a3.astype(np.int32)"
   ]
  },
  {
   "cell_type": "code",
   "execution_count": 47,
   "id": "b2a75e10",
   "metadata": {},
   "outputs": [
    {
     "data": {
      "text/plain": [
       "dtype('int64')"
      ]
     },
     "execution_count": 47,
     "metadata": {},
     "output_type": "execute_result"
    }
   ],
   "source": [
    "a3.dtype # we changed int64 in int32 as no need to save in big memory"
   ]
  },
  {
   "cell_type": "markdown",
   "id": "20c08761",
   "metadata": {},
   "source": [
    "# comparison of Numpy and list\n",
    "-  NUMPY ARRAY ARE FASTER \n",
    "- numpay are convenient\n",
    "- numpy take less memory\n",
    "- for checking we use time library to prove my point"
   ]
  },
  {
   "cell_type": "code",
   "execution_count": 79,
   "id": "05b4d03e",
   "metadata": {},
   "outputs": [
    {
     "name": "stdout",
     "output_type": "stream",
     "text": [
      "range(0, 100)\n"
     ]
    }
   ],
   "source": [
    "lista = range(100)\n",
    "print(lista)"
   ]
  },
  {
   "cell_type": "code",
   "execution_count": 80,
   "id": "26f61886",
   "metadata": {},
   "outputs": [
    {
     "data": {
      "text/plain": [
       "array([ 0,  1,  2,  3,  4,  5,  6,  7,  8,  9, 10, 11, 12, 13, 14, 15, 16,\n",
       "       17, 18, 19, 20, 21, 22, 23, 24, 25, 26, 27, 28, 29, 30, 31, 32, 33,\n",
       "       34, 35, 36, 37, 38, 39, 40, 41, 42, 43, 44, 45, 46, 47, 48, 49, 50,\n",
       "       51, 52, 53, 54, 55, 56, 57, 58, 59, 60, 61, 62, 63, 64, 65, 66, 67,\n",
       "       68, 69, 70, 71, 72, 73, 74, 75, 76, 77, 78, 79, 80, 81, 82, 83, 84,\n",
       "       85, 86, 87, 88, 89, 90, 91, 92, 93, 94, 95, 96, 97, 98, 99])"
      ]
     },
     "execution_count": 80,
     "metadata": {},
     "output_type": "execute_result"
    }
   ],
   "source": [
    "arr11= np.arange(100)\n",
    "arr11"
   ]
  },
  {
   "cell_type": "code",
   "execution_count": 82,
   "id": "a587ca68",
   "metadata": {},
   "outputs": [],
   "source": [
    "import sys\n",
    "# calling get.sizeof function for finding real time "
   ]
  },
  {
   "cell_type": "code",
   "execution_count": 83,
   "id": "e3a82426",
   "metadata": {},
   "outputs": [
    {
     "name": "stdout",
     "output_type": "stream",
     "text": [
      "2800\n"
     ]
    }
   ],
   "source": [
    "print(sys.getsizeof(87)*len(lista)) # 87 is any random nu bw 100 no in list"
   ]
  },
  {
   "cell_type": "code",
   "execution_count": 85,
   "id": "57e27c09",
   "metadata": {},
   "outputs": [
    {
     "name": "stdout",
     "output_type": "stream",
     "text": [
      "800\n"
     ]
    }
   ],
   "source": [
    "print(arr11.itemsize*arr11.size)  #itemsize give one item and size will give overall no size"
   ]
  },
  {
   "cell_type": "code",
   "execution_count": 86,
   "id": "f14af15f",
   "metadata": {},
   "outputs": [],
   "source": [
    "# hence proved list take 2800 memory and array took 800 array"
   ]
  },
  {
   "cell_type": "code",
   "execution_count": 88,
   "id": "f37dd46f",
   "metadata": {},
   "outputs": [],
   "source": [
    "import time   # for measuring speed use time "
   ]
  },
  {
   "cell_type": "code",
   "execution_count": 99,
   "id": "c3402e81",
   "metadata": {},
   "outputs": [
    {
     "name": "stdout",
     "output_type": "stream",
     "text": [
      "1.8905739784240723\n"
     ]
    }
   ],
   "source": [
    "x = range(10000000)\n",
    "y = range(10000000, 20000000)\n",
    "\n",
    "start_time = time.time() # it will give current time\n",
    "c = [(x,y) for x, y in zip(x,y)]  #zip will take one item and store in variable c \n",
    "\n",
    "print(time.time()- start_time)  # time se current time min will give code running timing"
   ]
  },
  {
   "cell_type": "code",
   "execution_count": 101,
   "id": "58347ddd",
   "metadata": {},
   "outputs": [
    {
     "name": "stdout",
     "output_type": "stream",
     "text": [
      "0.02451491355895996\n"
     ]
    }
   ],
   "source": [
    "a = np.arange(10000000)\n",
    "b = np.arange(10000000,20000000)\n",
    "start_time = time.time()\n",
    "c= a+b\n",
    "print(time.time()- start_time)"
   ]
  },
  {
   "cell_type": "markdown",
   "id": "ecbbdba4",
   "metadata": {},
   "source": [
    "# NUMPY OPERATIONS\n",
    "- we can apply mathmetical operation on numpy array."
   ]
  },
  {
   "cell_type": "code",
   "execution_count": 48,
   "id": "ff4aaf9d",
   "metadata": {},
   "outputs": [],
   "source": [
    "a1 = np.arange(12).reshape(3,4)\n",
    "a2 = np.arange(12,24).reshape(3,4)"
   ]
  },
  {
   "cell_type": "code",
   "execution_count": 49,
   "id": "54c0c8bb",
   "metadata": {},
   "outputs": [
    {
     "data": {
      "text/plain": [
       "array([[ 0,  1,  2,  3],\n",
       "       [ 4,  5,  6,  7],\n",
       "       [ 8,  9, 10, 11]])"
      ]
     },
     "execution_count": 49,
     "metadata": {},
     "output_type": "execute_result"
    }
   ],
   "source": [
    "a1"
   ]
  },
  {
   "cell_type": "code",
   "execution_count": 51,
   "id": "be29dbf7",
   "metadata": {},
   "outputs": [
    {
     "data": {
      "text/plain": [
       "array([[12, 13, 14, 15],\n",
       "       [16, 17, 18, 19],\n",
       "       [20, 21, 22, 23]])"
      ]
     },
     "execution_count": 51,
     "metadata": {},
     "output_type": "execute_result"
    }
   ],
   "source": [
    "a2"
   ]
  },
  {
   "cell_type": "markdown",
   "id": "dc0e8a9c",
   "metadata": {},
   "source": [
    "# 1- Scalar operation - on single array do application with math\n",
    "# airthmetic"
   ]
  },
  {
   "cell_type": "code",
   "execution_count": 52,
   "id": "059f8fc0",
   "metadata": {},
   "outputs": [
    {
     "data": {
      "text/plain": [
       "array([[ 0,  2,  4,  6],\n",
       "       [ 8, 10, 12, 14],\n",
       "       [16, 18, 20, 22]])"
      ]
     },
     "execution_count": 52,
     "metadata": {},
     "output_type": "execute_result"
    }
   ],
   "source": [
    "a1 *2"
   ]
  },
  {
   "cell_type": "code",
   "execution_count": 56,
   "id": "9f83e58b",
   "metadata": {},
   "outputs": [
    {
     "data": {
      "text/plain": [
       "array([[0.        , 0.33333333, 0.66666667, 1.        ],\n",
       "       [1.33333333, 1.66666667, 2.        , 2.33333333],\n",
       "       [2.66666667, 3.        , 3.33333333, 3.66666667]])"
      ]
     },
     "execution_count": 56,
     "metadata": {},
     "output_type": "execute_result"
    }
   ],
   "source": [
    "a1 /3"
   ]
  },
  {
   "cell_type": "code",
   "execution_count": 55,
   "id": "001d710d",
   "metadata": {},
   "outputs": [
    {
     "data": {
      "text/plain": [
       "array([[  0,   1,   4,   9],\n",
       "       [ 16,  25,  36,  49],\n",
       "       [ 64,  81, 100, 121]])"
      ]
     },
     "execution_count": 55,
     "metadata": {},
     "output_type": "execute_result"
    }
   ],
   "source": [
    "a1 ** 2"
   ]
  },
  {
   "cell_type": "code",
   "execution_count": 57,
   "id": "0d2f8da7",
   "metadata": {},
   "outputs": [
    {
     "data": {
      "text/plain": [
       "array([[ 2,  3,  4,  5],\n",
       "       [ 6,  7,  8,  9],\n",
       "       [10, 11, 12, 13]])"
      ]
     },
     "execution_count": 57,
     "metadata": {},
     "output_type": "execute_result"
    }
   ],
   "source": [
    "a1 + 2"
   ]
  },
  {
   "cell_type": "code",
   "execution_count": 58,
   "id": "10f82f5b",
   "metadata": {},
   "outputs": [
    {
     "data": {
      "text/plain": [
       "array([[-4, -3, -2, -1],\n",
       "       [ 0,  1,  2,  3],\n",
       "       [ 4,  5,  6,  7]])"
      ]
     },
     "execution_count": 58,
     "metadata": {},
     "output_type": "execute_result"
    }
   ],
   "source": [
    "a1 - 4"
   ]
  },
  {
   "cell_type": "markdown",
   "id": "69154295",
   "metadata": {},
   "source": [
    "# 2 - Relational Operators\n",
    "- it compare with every item in array and give output in true and false"
   ]
  },
  {
   "cell_type": "code",
   "execution_count": 59,
   "id": "88372b28",
   "metadata": {},
   "outputs": [
    {
     "data": {
      "text/plain": [
       "array([[ True,  True,  True,  True],\n",
       "       [ True,  True,  True,  True],\n",
       "       [ True,  True,  True,  True]])"
      ]
     },
     "execution_count": 59,
     "metadata": {},
     "output_type": "execute_result"
    }
   ],
   "source": [
    "a2 > 5"
   ]
  },
  {
   "cell_type": "code",
   "execution_count": 60,
   "id": "2bba4deb",
   "metadata": {},
   "outputs": [
    {
     "data": {
      "text/plain": [
       "array([[[ True,  True],\n",
       "        [ True,  True]],\n",
       "\n",
       "       [[ True,  True],\n",
       "        [False, False]]])"
      ]
     },
     "execution_count": 60,
     "metadata": {},
     "output_type": "execute_result"
    }
   ],
   "source": [
    "a3 < 6"
   ]
  },
  {
   "cell_type": "code",
   "execution_count": 62,
   "id": "b2f72a13",
   "metadata": {},
   "outputs": [
    {
     "data": {
      "text/plain": [
       "array([[False, False,  True, False],\n",
       "       [False, False, False, False],\n",
       "       [False, False, False, False]])"
      ]
     },
     "execution_count": 62,
     "metadata": {},
     "output_type": "execute_result"
    }
   ],
   "source": [
    "a2 == 14"
   ]
  },
  {
   "cell_type": "markdown",
   "id": "384d7551",
   "metadata": {},
   "source": [
    "# VECTOR OPERATIONS\n",
    "# AIRTHMETIC"
   ]
  },
  {
   "cell_type": "code",
   "execution_count": 63,
   "id": "1e515b68",
   "metadata": {},
   "outputs": [
    {
     "data": {
      "text/plain": [
       "array([[  0,  13,  28,  45],\n",
       "       [ 64,  85, 108, 133],\n",
       "       [160, 189, 220, 253]])"
      ]
     },
     "execution_count": 63,
     "metadata": {},
     "output_type": "execute_result"
    }
   ],
   "source": [
    "a1 * a2"
   ]
  },
  {
   "cell_type": "code",
   "execution_count": 64,
   "id": "86c92ec0",
   "metadata": {},
   "outputs": [
    {
     "data": {
      "text/plain": [
       "array([[12, 14, 16, 18],\n",
       "       [20, 22, 24, 26],\n",
       "       [28, 30, 32, 34]])"
      ]
     },
     "execution_count": 64,
     "metadata": {},
     "output_type": "execute_result"
    }
   ],
   "source": [
    "a1 + a2"
   ]
  },
  {
   "cell_type": "markdown",
   "id": "de685a23",
   "metadata": {},
   "source": [
    " # Numpy Array Functions (all mathmetical function)"
   ]
  },
  {
   "cell_type": "code",
   "execution_count": 68,
   "id": "6922dbaa",
   "metadata": {},
   "outputs": [
    {
     "data": {
      "text/plain": [
       "array([[80., 47., 77.],\n",
       "       [91., 42., 39.],\n",
       "       [25., 31., 24.]])"
      ]
     },
     "execution_count": 68,
     "metadata": {},
     "output_type": "execute_result"
    }
   ],
   "source": [
    "a1 = np.random.random((3,3))\n",
    "a1 = np.round(a1 * 100)\n",
    "a1"
   ]
  },
  {
   "cell_type": "markdown",
   "id": "5f06359c",
   "metadata": {},
   "source": [
    "# 1 - max/min/sum/product\n",
    "#### 0 means - column,  1 means rows in NUMPY"
   ]
  },
  {
   "cell_type": "markdown",
   "id": "e3c0149d",
   "metadata": {},
   "source": [
    "- np.max will give maximum item\n",
    "- np.min will give minimum item\n",
    "- np.sum will give sum of all item\n",
    "- np.prod will give multiplication of all number"
   ]
  },
  {
   "cell_type": "code",
   "execution_count": 69,
   "id": "d4e3862a",
   "metadata": {},
   "outputs": [
    {
     "data": {
      "text/plain": [
       "91.0"
      ]
     },
     "execution_count": 69,
     "metadata": {},
     "output_type": "execute_result"
    }
   ],
   "source": [
    "np.max(a1)"
   ]
  },
  {
   "cell_type": "code",
   "execution_count": 70,
   "id": "5467a611",
   "metadata": {},
   "outputs": [
    {
     "data": {
      "text/plain": [
       "24.0"
      ]
     },
     "execution_count": 70,
     "metadata": {},
     "output_type": "execute_result"
    }
   ],
   "source": [
    "np.min(a1)"
   ]
  },
  {
   "cell_type": "code",
   "execution_count": 71,
   "id": "e56c0b2a",
   "metadata": {},
   "outputs": [
    {
     "data": {
      "text/plain": [
       "456.0"
      ]
     },
     "execution_count": 71,
     "metadata": {},
     "output_type": "execute_result"
    }
   ],
   "source": [
    "np.sum(a1)"
   ]
  },
  {
   "cell_type": "code",
   "execution_count": 72,
   "id": "ebb5189d",
   "metadata": {},
   "outputs": [
    {
     "data": {
      "text/plain": [
       "802688062176000.0"
      ]
     },
     "execution_count": 72,
     "metadata": {},
     "output_type": "execute_result"
    }
   ],
   "source": [
    "np.prod(a1)"
   ]
  },
  {
   "cell_type": "code",
   "execution_count": 73,
   "id": "19923fa6",
   "metadata": {},
   "outputs": [],
   "source": [
    "# we can do this axis or dimension wise fucntion application"
   ]
  },
  {
   "cell_type": "code",
   "execution_count": 74,
   "id": "e01658c4",
   "metadata": {},
   "outputs": [
    {
     "data": {
      "text/plain": [
       "array([80., 91., 31.])"
      ]
     },
     "execution_count": 74,
     "metadata": {},
     "output_type": "execute_result"
    }
   ],
   "source": [
    "np.max(a1, axis = 1) # so for every row it given max number"
   ]
  },
  {
   "cell_type": "code",
   "execution_count": 76,
   "id": "b7eb67d5",
   "metadata": {},
   "outputs": [
    {
     "data": {
      "text/plain": [
       "array([91., 47., 77.])"
      ]
     },
     "execution_count": 76,
     "metadata": {},
     "output_type": "execute_result"
    }
   ],
   "source": [
    "np.max(a1, axis = 0) # axis = 0 it will give max number based on column vise."
   ]
  },
  {
   "cell_type": "code",
   "execution_count": 77,
   "id": "b8b54bcb",
   "metadata": {},
   "outputs": [
    {
     "data": {
      "text/plain": [
       "array([289520., 149058.,  18600.])"
      ]
     },
     "execution_count": 77,
     "metadata": {},
     "output_type": "execute_result"
    }
   ],
   "source": [
    "np.prod(a1, axis = 1)"
   ]
  },
  {
   "cell_type": "markdown",
   "id": "1ead9a72",
   "metadata": {},
   "source": [
    "# 2 - MEAN/ MEDIAN/ STD/ VAR - statistical operation"
   ]
  },
  {
   "cell_type": "code",
   "execution_count": 78,
   "id": "eb0cbc86",
   "metadata": {},
   "outputs": [
    {
     "data": {
      "text/plain": [
       "array([[80., 47., 77.],\n",
       "       [91., 42., 39.],\n",
       "       [25., 31., 24.]])"
      ]
     },
     "execution_count": 78,
     "metadata": {},
     "output_type": "execute_result"
    }
   ],
   "source": [
    "a1"
   ]
  },
  {
   "cell_type": "code",
   "execution_count": 79,
   "id": "33734e30",
   "metadata": {},
   "outputs": [
    {
     "data": {
      "text/plain": [
       "array([68.        , 57.33333333, 26.66666667])"
      ]
     },
     "execution_count": 79,
     "metadata": {},
     "output_type": "execute_result"
    }
   ],
   "source": [
    "np.mean(a1,axis= 1)"
   ]
  },
  {
   "cell_type": "code",
   "execution_count": 80,
   "id": "aa4c8ef3",
   "metadata": {},
   "outputs": [
    {
     "data": {
      "text/plain": [
       "array([77., 42., 25.])"
      ]
     },
     "execution_count": 80,
     "metadata": {},
     "output_type": "execute_result"
    }
   ],
   "source": [
    "np.median(a1, axis = 1)"
   ]
  },
  {
   "cell_type": "code",
   "execution_count": 81,
   "id": "0fa25dd8",
   "metadata": {},
   "outputs": [
    {
     "data": {
      "text/plain": [
       "array([222.        , 568.22222222,   9.55555556])"
      ]
     },
     "execution_count": 81,
     "metadata": {},
     "output_type": "execute_result"
    }
   ],
   "source": [
    "np.var(a1, axis = 1)"
   ]
  },
  {
   "cell_type": "code",
   "execution_count": 82,
   "id": "de70cc2f",
   "metadata": {},
   "outputs": [
    {
     "data": {
      "text/plain": [
       "array([14.89966443, 23.83741224,  3.09120617])"
      ]
     },
     "execution_count": 82,
     "metadata": {},
     "output_type": "execute_result"
    }
   ],
   "source": [
    "np.std(a1, axis = 1)"
   ]
  },
  {
   "cell_type": "markdown",
   "id": "539b94bd",
   "metadata": {},
   "source": [
    "# 3 - Trignoetric function \n",
    "- not very useful in Data Science"
   ]
  },
  {
   "cell_type": "code",
   "execution_count": 84,
   "id": "9e591b69",
   "metadata": {},
   "outputs": [
    {
     "data": {
      "text/plain": [
       "array([[-0.99388865,  0.12357312,  0.99952016],\n",
       "       [ 0.10598751, -0.91652155,  0.96379539],\n",
       "       [-0.13235175, -0.40403765, -0.90557836]])"
      ]
     },
     "execution_count": 84,
     "metadata": {},
     "output_type": "execute_result"
    }
   ],
   "source": [
    "np.sin(a1)"
   ]
  },
  {
   "cell_type": "markdown",
   "id": "acfe193b",
   "metadata": {},
   "source": [
    "# 4 - DOT PRODUCT\n",
    "- it is very useful.\n",
    "- we find dot product in between two metrices.\n",
    "- Condition for Dot Product ( firt metrices column, second metrics row shoul be match)"
   ]
  },
  {
   "cell_type": "code",
   "execution_count": 85,
   "id": "af591880",
   "metadata": {},
   "outputs": [],
   "source": [
    "a2 = np.arange(12).reshape(3,4)\n",
    "a3 = np.arange(12,24).reshape(4,3)"
   ]
  },
  {
   "cell_type": "code",
   "execution_count": 87,
   "id": "bb7f0a6b",
   "metadata": {},
   "outputs": [
    {
     "data": {
      "text/plain": [
       "array([[ 0,  1,  2,  3],\n",
       "       [ 4,  5,  6,  7],\n",
       "       [ 8,  9, 10, 11]])"
      ]
     },
     "execution_count": 87,
     "metadata": {},
     "output_type": "execute_result"
    }
   ],
   "source": [
    "a2"
   ]
  },
  {
   "cell_type": "code",
   "execution_count": 88,
   "id": "611c223f",
   "metadata": {},
   "outputs": [
    {
     "data": {
      "text/plain": [
       "array([[12, 13, 14],\n",
       "       [15, 16, 17],\n",
       "       [18, 19, 20],\n",
       "       [21, 22, 23]])"
      ]
     },
     "execution_count": 88,
     "metadata": {},
     "output_type": "execute_result"
    }
   ],
   "source": [
    "a3"
   ]
  },
  {
   "cell_type": "code",
   "execution_count": 86,
   "id": "25b23659",
   "metadata": {},
   "outputs": [
    {
     "data": {
      "text/plain": [
       "array([[114, 120, 126],\n",
       "       [378, 400, 422],\n",
       "       [642, 680, 718]])"
      ]
     },
     "execution_count": 86,
     "metadata": {},
     "output_type": "execute_result"
    }
   ],
   "source": [
    "np.dot(a2,a3)"
   ]
  },
  {
   "cell_type": "markdown",
   "id": "5090b0b0",
   "metadata": {},
   "source": [
    "# 5 - Log and Exponents"
   ]
  },
  {
   "cell_type": "code",
   "execution_count": 89,
   "id": "e0a9a45c",
   "metadata": {},
   "outputs": [
    {
     "data": {
      "text/plain": [
       "array([[5.54062238e+34, 2.58131289e+20, 2.75851345e+33],\n",
       "       [3.31740010e+39, 1.73927494e+18, 8.65934004e+16],\n",
       "       [7.20048993e+10, 2.90488497e+13, 2.64891221e+10]])"
      ]
     },
     "execution_count": 89,
     "metadata": {},
     "output_type": "execute_result"
    }
   ],
   "source": [
    "np.exp(a1)"
   ]
  },
  {
   "cell_type": "markdown",
   "id": "87564289",
   "metadata": {},
   "source": [
    "# 6 - Round / Floor/ Ceil"
   ]
  },
  {
   "cell_type": "code",
   "execution_count": 91,
   "id": "fae6d19e",
   "metadata": {},
   "outputs": [
    {
     "data": {
      "text/plain": [
       "array([[0.85019156, 0.46976082, 0.29438947],\n",
       "       [0.58474044, 0.82941488, 0.62510163]])"
      ]
     },
     "execution_count": 91,
     "metadata": {},
     "output_type": "execute_result"
    }
   ],
   "source": [
    "np.random.random((2,3))"
   ]
  },
  {
   "cell_type": "code",
   "execution_count": 92,
   "id": "48d00674",
   "metadata": {},
   "outputs": [
    {
     "data": {
      "text/plain": [
       "array([[ 44.,  56.,   0.],\n",
       "       [ 80., 100.,  59.]])"
      ]
     },
     "execution_count": 92,
     "metadata": {},
     "output_type": "execute_result"
    }
   ],
   "source": [
    "np.round(np.random.random((2,3))* 100) # round off"
   ]
  },
  {
   "cell_type": "code",
   "execution_count": 93,
   "id": "fdc632a0",
   "metadata": {},
   "outputs": [
    {
     "data": {
      "text/plain": [
       "array([[67., 84., 62.],\n",
       "       [29., 81.,  5.]])"
      ]
     },
     "execution_count": 93,
     "metadata": {},
     "output_type": "execute_result"
    }
   ],
   "source": [
    "np.floor(np.random.random((2,3))* 100) # sent forward"
   ]
  },
  {
   "cell_type": "code",
   "execution_count": 94,
   "id": "4d4f7b92",
   "metadata": {},
   "outputs": [
    {
     "data": {
      "text/plain": [
       "array([[92., 72., 36.],\n",
       "       [58., 69., 91.]])"
      ]
     },
     "execution_count": 94,
     "metadata": {},
     "output_type": "execute_result"
    }
   ],
   "source": [
    "np.ceil(np.random.random((2,3))* 100) # send backward"
   ]
  },
  {
   "cell_type": "markdown",
   "id": "27a80b2d",
   "metadata": {},
   "source": [
    "# Indexing and Slicing of Numpy Array"
   ]
  },
  {
   "cell_type": "code",
   "execution_count": 95,
   "id": "294ac652",
   "metadata": {},
   "outputs": [],
   "source": [
    "a1 = np.arange(10)\n",
    "a2 = np.arange(12).reshape(3,4)\n",
    "a3 = np.arange(8).reshape(2,2,2)"
   ]
  },
  {
   "cell_type": "code",
   "execution_count": 96,
   "id": "95277b1c",
   "metadata": {},
   "outputs": [
    {
     "data": {
      "text/plain": [
       "array([0, 1, 2, 3, 4, 5, 6, 7, 8, 9])"
      ]
     },
     "execution_count": 96,
     "metadata": {},
     "output_type": "execute_result"
    }
   ],
   "source": [
    "a1 # 1 d array"
   ]
  },
  {
   "cell_type": "code",
   "execution_count": 97,
   "id": "0a3c89ff",
   "metadata": {},
   "outputs": [
    {
     "data": {
      "text/plain": [
       "array([[ 0,  1,  2,  3],\n",
       "       [ 4,  5,  6,  7],\n",
       "       [ 8,  9, 10, 11]])"
      ]
     },
     "execution_count": 97,
     "metadata": {},
     "output_type": "execute_result"
    }
   ],
   "source": [
    "a2 # 2 d array"
   ]
  },
  {
   "cell_type": "code",
   "execution_count": 98,
   "id": "e65c4872",
   "metadata": {},
   "outputs": [
    {
     "data": {
      "text/plain": [
       "array([[[0, 1],\n",
       "        [2, 3]],\n",
       "\n",
       "       [[4, 5],\n",
       "        [6, 7]]])"
      ]
     },
     "execution_count": 98,
     "metadata": {},
     "output_type": "execute_result"
    }
   ],
   "source": [
    "a3"
   ]
  },
  {
   "cell_type": "code",
   "execution_count": 99,
   "id": "c87c7b99",
   "metadata": {},
   "outputs": [
    {
     "data": {
      "text/plain": [
       "9"
      ]
     },
     "execution_count": 99,
     "metadata": {},
     "output_type": "execute_result"
    }
   ],
   "source": [
    "a1[-1] # fetching last item"
   ]
  },
  {
   "cell_type": "code",
   "execution_count": 102,
   "id": "dbc5bebb",
   "metadata": {},
   "outputs": [
    {
     "data": {
      "text/plain": [
       "array([5, 6, 7])"
      ]
     },
     "execution_count": 102,
     "metadata": {},
     "output_type": "execute_result"
    }
   ],
   "source": [
    "a1[-5:-2]"
   ]
  },
  {
   "cell_type": "code",
   "execution_count": 103,
   "id": "fc3c3235",
   "metadata": {},
   "outputs": [
    {
     "data": {
      "text/plain": [
       "6"
      ]
     },
     "execution_count": 103,
     "metadata": {},
     "output_type": "execute_result"
    }
   ],
   "source": [
    "a2[1,2] # first row second column item will fetch"
   ]
  },
  {
   "cell_type": "code",
   "execution_count": 104,
   "id": "edd229de",
   "metadata": {},
   "outputs": [
    {
     "data": {
      "text/plain": [
       "4"
      ]
     },
     "execution_count": 104,
     "metadata": {},
     "output_type": "execute_result"
    }
   ],
   "source": [
    "a2[1,0] # first row zero column item will fetch in this matrix"
   ]
  },
  {
   "cell_type": "code",
   "execution_count": 105,
   "id": "fff0e0ac",
   "metadata": {},
   "outputs": [
    {
     "data": {
      "text/plain": [
       "array([2, 3])"
      ]
     },
     "execution_count": 105,
     "metadata": {},
     "output_type": "execute_result"
    }
   ],
   "source": [
    "a3[0][1]"
   ]
  },
  {
   "cell_type": "code",
   "execution_count": 107,
   "id": "11722116",
   "metadata": {},
   "outputs": [
    {
     "data": {
      "text/plain": [
       "3"
      ]
     },
     "execution_count": 107,
     "metadata": {},
     "output_type": "execute_result"
    }
   ],
   "source": [
    "a3[0][1][1] # in zero row , first column, first item "
   ]
  },
  {
   "cell_type": "code",
   "execution_count": 109,
   "id": "f1b44ecf",
   "metadata": {},
   "outputs": [
    {
     "data": {
      "text/plain": [
       "2"
      ]
     },
     "execution_count": 109,
     "metadata": {},
     "output_type": "execute_result"
    }
   ],
   "source": [
    "a3[0][1][0]"
   ]
  },
  {
   "cell_type": "code",
   "execution_count": 110,
   "id": "da355956",
   "metadata": {},
   "outputs": [
    {
     "data": {
      "text/plain": [
       "0"
      ]
     },
     "execution_count": 110,
     "metadata": {},
     "output_type": "execute_result"
    }
   ],
   "source": [
    "a3[0][0][0]"
   ]
  },
  {
   "cell_type": "code",
   "execution_count": 111,
   "id": "467d8da9",
   "metadata": {},
   "outputs": [
    {
     "data": {
      "text/plain": [
       "5"
      ]
     },
     "execution_count": 111,
     "metadata": {},
     "output_type": "execute_result"
    }
   ],
   "source": [
    "a3[1][0][1]"
   ]
  },
  {
   "cell_type": "code",
   "execution_count": 112,
   "id": "21b6ba69",
   "metadata": {},
   "outputs": [],
   "source": [
    "# now will do slicing"
   ]
  },
  {
   "cell_type": "code",
   "execution_count": 113,
   "id": "261de6d2",
   "metadata": {},
   "outputs": [
    {
     "data": {
      "text/plain": [
       "array([0, 1, 2, 3, 4, 5, 6, 7, 8, 9])"
      ]
     },
     "execution_count": 113,
     "metadata": {},
     "output_type": "execute_result"
    }
   ],
   "source": [
    "a1"
   ]
  },
  {
   "cell_type": "code",
   "execution_count": 115,
   "id": "379fcd51",
   "metadata": {},
   "outputs": [
    {
     "data": {
      "text/plain": [
       "array([2, 3, 4])"
      ]
     },
     "execution_count": 115,
     "metadata": {},
     "output_type": "execute_result"
    }
   ],
   "source": [
    "a1[2:5] # first include last not. index given for fetchin item\n"
   ]
  },
  {
   "cell_type": "code",
   "execution_count": 116,
   "id": "88d39e4b",
   "metadata": {},
   "outputs": [
    {
     "data": {
      "text/plain": [
       "array([[ 0,  1,  2,  3],\n",
       "       [ 4,  5,  6,  7],\n",
       "       [ 8,  9, 10, 11]])"
      ]
     },
     "execution_count": 116,
     "metadata": {},
     "output_type": "execute_result"
    }
   ],
   "source": [
    "a2"
   ]
  },
  {
   "cell_type": "code",
   "execution_count": 118,
   "id": "cd8c43eb",
   "metadata": {},
   "outputs": [
    {
     "data": {
      "text/plain": [
       "array([5, 6])"
      ]
     },
     "execution_count": 118,
     "metadata": {},
     "output_type": "execute_result"
    }
   ],
   "source": [
    "a2[1][1:3] # first row , first and second item will fetch"
   ]
  },
  {
   "cell_type": "code",
   "execution_count": 120,
   "id": "8a5d86dc",
   "metadata": {},
   "outputs": [
    {
     "data": {
      "text/plain": [
       "array([ 2,  6, 10])"
      ]
     },
     "execution_count": 120,
     "metadata": {},
     "output_type": "execute_result"
    }
   ],
   "source": [
    "a2[:,2] # fetching entire row with second column"
   ]
  },
  {
   "cell_type": "code",
   "execution_count": 121,
   "id": "c2f39e7e",
   "metadata": {},
   "outputs": [
    {
     "data": {
      "text/plain": [
       "array([[ 5,  6],\n",
       "       [ 9, 10]])"
      ]
     },
     "execution_count": 121,
     "metadata": {},
     "output_type": "execute_result"
    }
   ],
   "source": [
    "a2[1:, 1:3]"
   ]
  },
  {
   "cell_type": "code",
   "execution_count": 123,
   "id": "500abd8f",
   "metadata": {},
   "outputs": [
    {
     "data": {
      "text/plain": [
       "array([[ 0,  3],\n",
       "       [ 8, 11]])"
      ]
     },
     "execution_count": 123,
     "metadata": {},
     "output_type": "execute_result"
    }
   ],
   "source": [
    "a2[::2, ::3]"
   ]
  },
  {
   "cell_type": "code",
   "execution_count": 134,
   "id": "3e98e679",
   "metadata": {},
   "outputs": [
    {
     "data": {
      "text/plain": [
       "array([[ 1,  3],\n",
       "       [ 9, 11]])"
      ]
     },
     "execution_count": 134,
     "metadata": {},
     "output_type": "execute_result"
    }
   ],
   "source": [
    "a2[::2, 1::2] # fetching first and third row and one onwards column with 2 jumps. "
   ]
  },
  {
   "cell_type": "code",
   "execution_count": 135,
   "id": "2169b3c6",
   "metadata": {},
   "outputs": [
    {
     "data": {
      "text/plain": [
       "array([4, 5, 6, 7])"
      ]
     },
     "execution_count": 135,
     "metadata": {},
     "output_type": "execute_result"
    }
   ],
   "source": [
    "a2[1]"
   ]
  },
  {
   "cell_type": "code",
   "execution_count": 138,
   "id": "56db064a",
   "metadata": {},
   "outputs": [
    {
     "data": {
      "text/plain": [
       "array([4, 7])"
      ]
     },
     "execution_count": 138,
     "metadata": {},
     "output_type": "execute_result"
    }
   ],
   "source": [
    "a2[1,::3]"
   ]
  },
  {
   "cell_type": "code",
   "execution_count": 139,
   "id": "01439033",
   "metadata": {},
   "outputs": [
    {
     "data": {
      "text/plain": [
       "array([[ 0,  1,  2,  3],\n",
       "       [ 4,  5,  6,  7],\n",
       "       [ 8,  9, 10, 11]])"
      ]
     },
     "execution_count": 139,
     "metadata": {},
     "output_type": "execute_result"
    }
   ],
   "source": [
    "a2"
   ]
  },
  {
   "cell_type": "code",
   "execution_count": 140,
   "id": "947e5be7",
   "metadata": {},
   "outputs": [
    {
     "data": {
      "text/plain": [
       "array([[1, 2, 3],\n",
       "       [5, 6, 7]])"
      ]
     },
     "execution_count": 140,
     "metadata": {},
     "output_type": "execute_result"
    }
   ],
   "source": [
    "a2[:2,1:]"
   ]
  },
  {
   "cell_type": "code",
   "execution_count": 142,
   "id": "3907bc85",
   "metadata": {},
   "outputs": [
    {
     "data": {
      "text/plain": [
       "array([[1, 3],\n",
       "       [5, 7]])"
      ]
     },
     "execution_count": 142,
     "metadata": {},
     "output_type": "execute_result"
    }
   ],
   "source": [
    "a2[:2,1::2]"
   ]
  },
  {
   "cell_type": "code",
   "execution_count": 145,
   "id": "c78a5a6e",
   "metadata": {},
   "outputs": [
    {
     "data": {
      "text/plain": [
       "array([[[ 0,  1,  2],\n",
       "        [ 3,  4,  5],\n",
       "        [ 6,  7,  8]],\n",
       "\n",
       "       [[ 9, 10, 11],\n",
       "        [12, 13, 14],\n",
       "        [15, 16, 17]],\n",
       "\n",
       "       [[18, 19, 20],\n",
       "        [21, 22, 23],\n",
       "        [24, 25, 26]]])"
      ]
     },
     "execution_count": 145,
     "metadata": {},
     "output_type": "execute_result"
    }
   ],
   "source": [
    "a3 = np.arange(27).reshape(3,3,3)\n",
    "a3"
   ]
  },
  {
   "cell_type": "code",
   "execution_count": 146,
   "id": "a828cb30",
   "metadata": {},
   "outputs": [
    {
     "data": {
      "text/plain": [
       "array([[ 9, 10, 11],\n",
       "       [12, 13, 14],\n",
       "       [15, 16, 17]])"
      ]
     },
     "execution_count": 146,
     "metadata": {},
     "output_type": "execute_result"
    }
   ],
   "source": [
    "a3[1]"
   ]
  },
  {
   "cell_type": "code",
   "execution_count": 149,
   "id": "4fd4573e",
   "metadata": {},
   "outputs": [
    {
     "data": {
      "text/plain": [
       "10"
      ]
     },
     "execution_count": 149,
     "metadata": {},
     "output_type": "execute_result"
    }
   ],
   "source": [
    "a3[1][0][1]"
   ]
  },
  {
   "cell_type": "code",
   "execution_count": 152,
   "id": "f84df1a0",
   "metadata": {},
   "outputs": [
    {
     "data": {
      "text/plain": [
       "array([[[ 0,  1,  2],\n",
       "        [ 3,  4,  5],\n",
       "        [ 6,  7,  8]],\n",
       "\n",
       "       [[18, 19, 20],\n",
       "        [21, 22, 23],\n",
       "        [24, 25, 26]]])"
      ]
     },
     "execution_count": 152,
     "metadata": {},
     "output_type": "execute_result"
    }
   ],
   "source": [
    "a3[::2]"
   ]
  },
  {
   "cell_type": "code",
   "execution_count": 153,
   "id": "8f530a47",
   "metadata": {},
   "outputs": [
    {
     "data": {
      "text/plain": [
       "array([3, 4, 5])"
      ]
     },
     "execution_count": 153,
     "metadata": {},
     "output_type": "execute_result"
    }
   ],
   "source": [
    "a3[0,1,:]"
   ]
  },
  {
   "cell_type": "code",
   "execution_count": 155,
   "id": "ef8e3b33",
   "metadata": {},
   "outputs": [
    {
     "data": {
      "text/plain": [
       "array([10, 13, 16])"
      ]
     },
     "execution_count": 155,
     "metadata": {},
     "output_type": "execute_result"
    }
   ],
   "source": [
    "a3[1,:,1]"
   ]
  },
  {
   "cell_type": "code",
   "execution_count": 157,
   "id": "f54a7a47",
   "metadata": {},
   "outputs": [
    {
     "data": {
      "text/plain": [
       "array([12, 13, 14])"
      ]
     },
     "execution_count": 157,
     "metadata": {},
     "output_type": "execute_result"
    }
   ],
   "source": [
    "a3[1,1]"
   ]
  },
  {
   "cell_type": "code",
   "execution_count": 160,
   "id": "acd2a748",
   "metadata": {},
   "outputs": [
    {
     "data": {
      "text/plain": [
       "array([[ 0,  2],\n",
       "       [ 9, 11],\n",
       "       [18, 20]])"
      ]
     },
     "execution_count": 160,
     "metadata": {},
     "output_type": "execute_result"
    }
   ],
   "source": [
    "a3[0:, 0,::2]"
   ]
  },
  {
   "cell_type": "code",
   "execution_count": 159,
   "id": "cfb3d0d0",
   "metadata": {},
   "outputs": [
    {
     "data": {
      "text/plain": [
       "array([[ 0,  2],\n",
       "       [18, 20]])"
      ]
     },
     "execution_count": 159,
     "metadata": {},
     "output_type": "execute_result"
    }
   ],
   "source": [
    "a3[::2,0,::2]"
   ]
  },
  {
   "cell_type": "markdown",
   "id": "74687901",
   "metadata": {},
   "source": [
    "# ITERATING"
   ]
  },
  {
   "cell_type": "code",
   "execution_count": 162,
   "id": "c49fdb45",
   "metadata": {},
   "outputs": [
    {
     "data": {
      "text/plain": [
       "array([0, 1, 2, 3, 4, 5, 6, 7, 8, 9])"
      ]
     },
     "execution_count": 162,
     "metadata": {},
     "output_type": "execute_result"
    }
   ],
   "source": [
    "a1"
   ]
  },
  {
   "cell_type": "code",
   "execution_count": 163,
   "id": "08dc3492",
   "metadata": {},
   "outputs": [
    {
     "data": {
      "text/plain": [
       "array([[ 0,  1,  2,  3],\n",
       "       [ 4,  5,  6,  7],\n",
       "       [ 8,  9, 10, 11]])"
      ]
     },
     "execution_count": 163,
     "metadata": {},
     "output_type": "execute_result"
    }
   ],
   "source": [
    "a2"
   ]
  },
  {
   "cell_type": "code",
   "execution_count": 164,
   "id": "6abfd8f6",
   "metadata": {},
   "outputs": [
    {
     "data": {
      "text/plain": [
       "array([[[ 0,  1,  2],\n",
       "        [ 3,  4,  5],\n",
       "        [ 6,  7,  8]],\n",
       "\n",
       "       [[ 9, 10, 11],\n",
       "        [12, 13, 14],\n",
       "        [15, 16, 17]],\n",
       "\n",
       "       [[18, 19, 20],\n",
       "        [21, 22, 23],\n",
       "        [24, 25, 26]]])"
      ]
     },
     "execution_count": 164,
     "metadata": {},
     "output_type": "execute_result"
    }
   ],
   "source": [
    "a3"
   ]
  },
  {
   "cell_type": "code",
   "execution_count": 165,
   "id": "ebccd0a1",
   "metadata": {},
   "outputs": [
    {
     "name": "stdout",
     "output_type": "stream",
     "text": [
      "0\n",
      "1\n",
      "2\n",
      "3\n",
      "4\n",
      "5\n",
      "6\n",
      "7\n",
      "8\n",
      "9\n"
     ]
    }
   ],
   "source": [
    "for i in a1:\n",
    "    print(i)"
   ]
  },
  {
   "cell_type": "code",
   "execution_count": 167,
   "id": "3b46afc7",
   "metadata": {},
   "outputs": [
    {
     "name": "stdout",
     "output_type": "stream",
     "text": [
      "[0 1 2 3]\n",
      "[4 5 6 7]\n",
      "[ 8  9 10 11]\n"
     ]
    }
   ],
   "source": [
    "for i in a2:\n",
    "    print(i) # in 2d it will print entire row in one line"
   ]
  },
  {
   "cell_type": "code",
   "execution_count": 169,
   "id": "4be03938",
   "metadata": {},
   "outputs": [
    {
     "name": "stdout",
     "output_type": "stream",
     "text": [
      "[[0 1 2]\n",
      " [3 4 5]\n",
      " [6 7 8]]\n",
      "[[ 9 10 11]\n",
      " [12 13 14]\n",
      " [15 16 17]]\n",
      "[[18 19 20]\n",
      " [21 22 23]\n",
      " [24 25 26]]\n"
     ]
    }
   ],
   "source": [
    "for i in a3:\n",
    "    print(i) # in 3d it will print in 2d array"
   ]
  },
  {
   "cell_type": "markdown",
   "id": "6c0d3c4d",
   "metadata": {},
   "source": [
    "# for iterating over individual item - np.nditer()"
   ]
  },
  {
   "cell_type": "code",
   "execution_count": 171,
   "id": "4a716ddb",
   "metadata": {},
   "outputs": [
    {
     "name": "stdout",
     "output_type": "stream",
     "text": [
      "0\n",
      "1\n",
      "2\n",
      "3\n",
      "4\n",
      "5\n",
      "6\n",
      "7\n",
      "8\n",
      "9\n",
      "10\n",
      "11\n",
      "12\n",
      "13\n",
      "14\n",
      "15\n",
      "16\n",
      "17\n",
      "18\n",
      "19\n",
      "20\n",
      "21\n",
      "22\n",
      "23\n",
      "24\n",
      "25\n",
      "26\n"
     ]
    }
   ],
   "source": [
    "for i in np.nditer(a3):\n",
    "    print(i)"
   ]
  },
  {
   "cell_type": "markdown",
   "id": "78c06666",
   "metadata": {},
   "source": [
    "# RESHAPING\n",
    "- 1- reshape\n",
    "- 2- ravel\n",
    "- 3- transpose"
   ]
  },
  {
   "cell_type": "markdown",
   "id": "2452cb6b",
   "metadata": {},
   "source": [
    "## Transpose"
   ]
  },
  {
   "cell_type": "code",
   "execution_count": 172,
   "id": "b15f5027",
   "metadata": {},
   "outputs": [
    {
     "data": {
      "text/plain": [
       "array([[ 0,  4,  8],\n",
       "       [ 1,  5,  9],\n",
       "       [ 2,  6, 10],\n",
       "       [ 3,  7, 11]])"
      ]
     },
     "execution_count": 172,
     "metadata": {},
     "output_type": "execute_result"
    }
   ],
   "source": [
    "np.transpose(a2)"
   ]
  },
  {
   "cell_type": "code",
   "execution_count": 173,
   "id": "338010a1",
   "metadata": {},
   "outputs": [
    {
     "data": {
      "text/plain": [
       "array([[ 0,  4,  8],\n",
       "       [ 1,  5,  9],\n",
       "       [ 2,  6, 10],\n",
       "       [ 3,  7, 11]])"
      ]
     },
     "execution_count": 173,
     "metadata": {},
     "output_type": "execute_result"
    }
   ],
   "source": [
    "a2.T"
   ]
  },
  {
   "cell_type": "code",
   "execution_count": 174,
   "id": "b909cdfa",
   "metadata": {},
   "outputs": [
    {
     "data": {
      "text/plain": [
       "array([[[ 0,  1,  2],\n",
       "        [ 3,  4,  5],\n",
       "        [ 6,  7,  8]],\n",
       "\n",
       "       [[ 9, 10, 11],\n",
       "        [12, 13, 14],\n",
       "        [15, 16, 17]],\n",
       "\n",
       "       [[18, 19, 20],\n",
       "        [21, 22, 23],\n",
       "        [24, 25, 26]]])"
      ]
     },
     "execution_count": 174,
     "metadata": {},
     "output_type": "execute_result"
    }
   ],
   "source": [
    "a3"
   ]
  },
  {
   "cell_type": "code",
   "execution_count": 175,
   "id": "967c17a2",
   "metadata": {},
   "outputs": [
    {
     "data": {
      "text/plain": [
       "array([[[ 0,  9, 18],\n",
       "        [ 3, 12, 21],\n",
       "        [ 6, 15, 24]],\n",
       "\n",
       "       [[ 1, 10, 19],\n",
       "        [ 4, 13, 22],\n",
       "        [ 7, 16, 25]],\n",
       "\n",
       "       [[ 2, 11, 20],\n",
       "        [ 5, 14, 23],\n",
       "        [ 8, 17, 26]]])"
      ]
     },
     "execution_count": 175,
     "metadata": {},
     "output_type": "execute_result"
    }
   ],
   "source": [
    "a3.T"
   ]
  },
  {
   "cell_type": "markdown",
   "id": "36dacd64",
   "metadata": {},
   "source": [
    "### "
   ]
  },
  {
   "cell_type": "markdown",
   "id": "b51a7d4e",
   "metadata": {},
   "source": [
    "## Ravel - convert any kind of dimension in one dimension"
   ]
  },
  {
   "cell_type": "code",
   "execution_count": 176,
   "id": "62bcc073",
   "metadata": {},
   "outputs": [
    {
     "data": {
      "text/plain": [
       "array([ 0,  1,  2,  3,  4,  5,  6,  7,  8,  9, 10, 11, 12, 13, 14, 15, 16,\n",
       "       17, 18, 19, 20, 21, 22, 23, 24, 25, 26])"
      ]
     },
     "execution_count": 176,
     "metadata": {},
     "output_type": "execute_result"
    }
   ],
   "source": [
    "a3.ravel()"
   ]
  },
  {
   "cell_type": "markdown",
   "id": "e15ba975",
   "metadata": {},
   "source": [
    "# Stacking\n",
    "- use when we collect data from different different platform so with horizontal, vertical stacking we can add all \n",
    "data to convert in one data. \n",
    "- conditon of stacking is shape should be same."
   ]
  },
  {
   "cell_type": "code",
   "execution_count": 187,
   "id": "b04eeb61",
   "metadata": {},
   "outputs": [],
   "source": [
    "a4 = np.arange(12).reshape(3,4)\n",
    "a5 = np.arange(12,24).reshape(3,4)"
   ]
  },
  {
   "cell_type": "code",
   "execution_count": 189,
   "id": "190314e6",
   "metadata": {},
   "outputs": [
    {
     "data": {
      "text/plain": [
       "array([[ 0,  1,  2,  3, 12, 13, 14, 15],\n",
       "       [ 4,  5,  6,  7, 16, 17, 18, 19],\n",
       "       [ 8,  9, 10, 11, 20, 21, 22, 23]])"
      ]
     },
     "execution_count": 189,
     "metadata": {},
     "output_type": "execute_result"
    }
   ],
   "source": [
    "np.hstack((a4,a5))"
   ]
  },
  {
   "cell_type": "code",
   "execution_count": 190,
   "id": "e7b3a411",
   "metadata": {},
   "outputs": [
    {
     "data": {
      "text/plain": [
       "array([[ 0,  1,  2,  3],\n",
       "       [ 4,  5,  6,  7],\n",
       "       [ 8,  9, 10, 11],\n",
       "       [12, 13, 14, 15],\n",
       "       [16, 17, 18, 19],\n",
       "       [20, 21, 22, 23]])"
      ]
     },
     "execution_count": 190,
     "metadata": {},
     "output_type": "execute_result"
    }
   ],
   "source": [
    "np.vstack((a4,a5))"
   ]
  },
  {
   "cell_type": "markdown",
   "id": "5303540e",
   "metadata": {},
   "source": [
    "# Splitting\n",
    "- it just the opposite of stacking\n",
    "- when we want to divivde data branchwise or any other use"
   ]
  },
  {
   "cell_type": "markdown",
   "id": "f4407fe0",
   "metadata": {},
   "source": [
    "# horizontal splitting"
   ]
  },
  {
   "cell_type": "code",
   "execution_count": 191,
   "id": "8b0ec4bb",
   "metadata": {},
   "outputs": [
    {
     "data": {
      "text/plain": [
       "array([[ 0,  1,  2,  3],\n",
       "       [ 4,  5,  6,  7],\n",
       "       [ 8,  9, 10, 11]])"
      ]
     },
     "execution_count": 191,
     "metadata": {},
     "output_type": "execute_result"
    }
   ],
   "source": [
    "a4"
   ]
  },
  {
   "cell_type": "code",
   "execution_count": 192,
   "id": "44503ba8",
   "metadata": {},
   "outputs": [
    {
     "data": {
      "text/plain": [
       "[array([[0, 1],\n",
       "        [4, 5],\n",
       "        [8, 9]]),\n",
       " array([[ 2,  3],\n",
       "        [ 6,  7],\n",
       "        [10, 11]])]"
      ]
     },
     "execution_count": 192,
     "metadata": {},
     "output_type": "execute_result"
    }
   ],
   "source": [
    "np.hsplit(a4, 2)"
   ]
  },
  {
   "cell_type": "code",
   "execution_count": 195,
   "id": "278e42b0",
   "metadata": {},
   "outputs": [
    {
     "data": {
      "text/plain": [
       "[array([[0],\n",
       "        [4],\n",
       "        [8]]),\n",
       " array([[1],\n",
       "        [5],\n",
       "        [9]]),\n",
       " array([[ 2],\n",
       "        [ 6],\n",
       "        [10]]),\n",
       " array([[ 3],\n",
       "        [ 7],\n",
       "        [11]])]"
      ]
     },
     "execution_count": 195,
     "metadata": {},
     "output_type": "execute_result"
    }
   ],
   "source": [
    "np.hsplit(a4, 4)"
   ]
  },
  {
   "cell_type": "markdown",
   "id": "e3821aa2",
   "metadata": {},
   "source": [
    "# vertical splitting"
   ]
  },
  {
   "cell_type": "code",
   "execution_count": 196,
   "id": "eb4212a0",
   "metadata": {},
   "outputs": [
    {
     "data": {
      "text/plain": [
       "[array([[12, 13, 14, 15]]),\n",
       " array([[16, 17, 18, 19]]),\n",
       " array([[20, 21, 22, 23]])]"
      ]
     },
     "execution_count": 196,
     "metadata": {},
     "output_type": "execute_result"
    }
   ],
   "source": [
    "np.vsplit(a5,3)"
   ]
  },
  {
   "cell_type": "code",
   "execution_count": null,
   "id": "e6137a1e",
   "metadata": {},
   "outputs": [],
   "source": []
  },
  {
   "cell_type": "markdown",
   "id": "19ee9e14",
   "metadata": {},
   "source": [
    "### "
   ]
  },
  {
   "cell_type": "markdown",
   "id": "75fae7f2",
   "metadata": {},
   "source": [
    "### "
   ]
  },
  {
   "cell_type": "markdown",
   "id": "34d75379",
   "metadata": {},
   "source": [
    "### "
   ]
  },
  {
   "cell_type": "markdown",
   "id": "2fbe12ba",
   "metadata": {},
   "source": [
    "### "
   ]
  }
 ],
 "metadata": {
  "kernelspec": {
   "display_name": "Python 3",
   "language": "python",
   "name": "python3"
  },
  "language_info": {
   "codemirror_mode": {
    "name": "ipython",
    "version": 3
   },
   "file_extension": ".py",
   "mimetype": "text/x-python",
   "name": "python",
   "nbconvert_exporter": "python",
   "pygments_lexer": "ipython3",
   "version": "3.8.8"
  }
 },
 "nbformat": 4,
 "nbformat_minor": 5
}
